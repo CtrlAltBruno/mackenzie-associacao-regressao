{
 "cells": [
  {
   "cell_type": "markdown",
   "metadata": {},
   "source": [
    "<head>\n",
    "  <meta name=\"author\" content=\"Rogério de Oliveira\">\n",
    "  <meta institution=\"author\" content=\"Universidade Presbiteriana Mackenzie\">\n",
    "</head>\n",
    "\n",
    "<img src=\"http://meusite.mackenzie.br/rogerio/mackenzie_logo/UPM.2_horizontal_vermelho.jpg\" width=300, align=\"right\">\n",
    "\n",
    "<h1 align=left><font size = 8\"><b>Inteligência Artificial</b></font></h1>\n",
    "<h1 align=left><font size = 6\"><b>Associação e Regressão</b></font></h2>\n",
    "\n",
    "# Atividade: T2 - Atividade de aprofundamento\n",
    "\n",
    "Nome: Bruno Rebocho de Toledo\n",
    "\n",
    "Turma: 01B\n",
    "\n",
    "Matrícula: 92316328"
   ]
  },
  {
   "cell_type": "code",
   "execution_count": 1,
   "metadata": {
    "ExecuteTime": {
     "end_time": "2023-11-28T01:24:50.444546Z",
     "start_time": "2023-11-28T01:24:50.438452Z"
    },
    "colab": {
     "base_uri": "https://localhost:8080/"
    },
    "id": "8Z9yQMk5dQpS",
    "outputId": "b47a7139-b41d-4c74-aada-19b39c28e9aa"
   },
   "outputs": [],
   "source": [
    "#!pip install apyori"
   ]
  },
  {
   "cell_type": "code",
   "execution_count": 2,
   "metadata": {
    "ExecuteTime": {
     "end_time": "2023-11-28T01:24:51.098406Z",
     "start_time": "2023-11-28T01:24:50.452110Z"
    },
    "id": "kbYwBtLDVCZj"
   },
   "outputs": [],
   "source": [
    "import pandas as pd\n",
    "import numpy as np\n",
    "from apyori import apriori\n",
    "from sklearn.datasets import load_iris"
   ]
  },
  {
   "cell_type": "code",
   "execution_count": 3,
   "metadata": {
    "ExecuteTime": {
     "end_time": "2023-11-28T01:24:51.115535Z",
     "start_time": "2023-11-28T01:24:51.099423Z"
    },
    "id": "qOu_Qlqxg_3S"
   },
   "outputs": [
    {
     "data": {
      "text/html": [
       "<div>\n",
       "<style scoped>\n",
       "    .dataframe tbody tr th:only-of-type {\n",
       "        vertical-align: middle;\n",
       "    }\n",
       "\n",
       "    .dataframe tbody tr th {\n",
       "        vertical-align: top;\n",
       "    }\n",
       "\n",
       "    .dataframe thead th {\n",
       "        text-align: right;\n",
       "    }\n",
       "</style>\n",
       "<table border=\"1\" class=\"dataframe\">\n",
       "  <thead>\n",
       "    <tr style=\"text-align: right;\">\n",
       "      <th></th>\n",
       "      <th>sepal length (cm)</th>\n",
       "      <th>sepal width (cm)</th>\n",
       "      <th>petal length (cm)</th>\n",
       "      <th>petal width (cm)</th>\n",
       "      <th>specie</th>\n",
       "    </tr>\n",
       "  </thead>\n",
       "  <tbody>\n",
       "    <tr>\n",
       "      <th>0</th>\n",
       "      <td>5.1</td>\n",
       "      <td>3.5</td>\n",
       "      <td>1.4</td>\n",
       "      <td>0.2</td>\n",
       "      <td>setosa</td>\n",
       "    </tr>\n",
       "    <tr>\n",
       "      <th>1</th>\n",
       "      <td>4.9</td>\n",
       "      <td>3.0</td>\n",
       "      <td>1.4</td>\n",
       "      <td>0.2</td>\n",
       "      <td>setosa</td>\n",
       "    </tr>\n",
       "    <tr>\n",
       "      <th>2</th>\n",
       "      <td>4.7</td>\n",
       "      <td>3.2</td>\n",
       "      <td>1.3</td>\n",
       "      <td>0.2</td>\n",
       "      <td>setosa</td>\n",
       "    </tr>\n",
       "    <tr>\n",
       "      <th>3</th>\n",
       "      <td>4.6</td>\n",
       "      <td>3.1</td>\n",
       "      <td>1.5</td>\n",
       "      <td>0.2</td>\n",
       "      <td>setosa</td>\n",
       "    </tr>\n",
       "    <tr>\n",
       "      <th>4</th>\n",
       "      <td>5.0</td>\n",
       "      <td>3.6</td>\n",
       "      <td>1.4</td>\n",
       "      <td>0.2</td>\n",
       "      <td>setosa</td>\n",
       "    </tr>\n",
       "  </tbody>\n",
       "</table>\n",
       "</div>"
      ],
      "text/plain": [
       "   sepal length (cm)  sepal width (cm)  petal length (cm)  petal width (cm)  \\\n",
       "0                5.1               3.5                1.4               0.2   \n",
       "1                4.9               3.0                1.4               0.2   \n",
       "2                4.7               3.2                1.3               0.2   \n",
       "3                4.6               3.1                1.5               0.2   \n",
       "4                5.0               3.6                1.4               0.2   \n",
       "\n",
       "   specie  \n",
       "0  setosa  \n",
       "1  setosa  \n",
       "2  setosa  \n",
       "3  setosa  \n",
       "4  setosa  "
      ]
     },
     "execution_count": 3,
     "metadata": {},
     "output_type": "execute_result"
    }
   ],
   "source": [
    "data = load_iris()\n",
    "df = pd.DataFrame(data.data, columns=data.feature_names)\n",
    "df['specie'] = pd.Categorical.from_codes(data.target, data.target_names)\n",
    "df.head()"
   ]
  },
  {
   "cell_type": "code",
   "execution_count": 4,
   "metadata": {
    "ExecuteTime": {
     "end_time": "2023-11-28T01:24:51.115890Z",
     "start_time": "2023-11-28T01:24:51.111164Z"
    },
    "id": "RJeO2736kAbs"
   },
   "outputs": [],
   "source": [
    "#association_rules = apriori(df, min_support=0.3)\n",
    "#association_results = list(association_rules)"
   ]
  },
  {
   "cell_type": "code",
   "execution_count": 5,
   "metadata": {
    "ExecuteTime": {
     "end_time": "2023-11-28T01:24:51.122830Z",
     "start_time": "2023-11-28T01:24:51.115406Z"
    },
    "id": "6vCg20cTkMHX"
   },
   "outputs": [],
   "source": [
    "#df_results = pd.DataFrame(association_results)"
   ]
  },
  {
   "cell_type": "code",
   "execution_count": 6,
   "metadata": {
    "ExecuteTime": {
     "end_time": "2023-11-28T01:24:51.130062Z",
     "start_time": "2023-11-28T01:24:51.119185Z"
    },
    "collapsed": false
   },
   "outputs": [],
   "source": [
    "#df_results.head()"
   ]
  },
  {
   "cell_type": "code",
   "execution_count": 7,
   "metadata": {
    "ExecuteTime": {
     "end_time": "2023-11-28T01:24:51.174669Z",
     "start_time": "2023-11-28T01:24:51.122614Z"
    },
    "colab": {
     "base_uri": "https://localhost:8080/",
     "height": 300
    },
    "id": "L-pw_dzfkvtl",
    "outputId": "5363eb92-f0eb-4b59-89ea-ea0acf716a20"
   },
   "outputs": [
    {
     "data": {
      "text/html": [
       "<div>\n",
       "<style scoped>\n",
       "    .dataframe tbody tr th:only-of-type {\n",
       "        vertical-align: middle;\n",
       "    }\n",
       "\n",
       "    .dataframe tbody tr th {\n",
       "        vertical-align: top;\n",
       "    }\n",
       "\n",
       "    .dataframe thead th {\n",
       "        text-align: right;\n",
       "    }\n",
       "</style>\n",
       "<table border=\"1\" class=\"dataframe\">\n",
       "  <thead>\n",
       "    <tr style=\"text-align: right;\">\n",
       "      <th></th>\n",
       "      <th>sepal length (cm)</th>\n",
       "      <th>sepal width (cm)</th>\n",
       "      <th>petal length (cm)</th>\n",
       "      <th>petal width (cm)</th>\n",
       "    </tr>\n",
       "  </thead>\n",
       "  <tbody>\n",
       "    <tr>\n",
       "      <th>count</th>\n",
       "      <td>150.000000</td>\n",
       "      <td>150.000000</td>\n",
       "      <td>150.000000</td>\n",
       "      <td>150.000000</td>\n",
       "    </tr>\n",
       "    <tr>\n",
       "      <th>mean</th>\n",
       "      <td>5.843333</td>\n",
       "      <td>3.057333</td>\n",
       "      <td>3.758000</td>\n",
       "      <td>1.199333</td>\n",
       "    </tr>\n",
       "    <tr>\n",
       "      <th>std</th>\n",
       "      <td>0.828066</td>\n",
       "      <td>0.435866</td>\n",
       "      <td>1.765298</td>\n",
       "      <td>0.762238</td>\n",
       "    </tr>\n",
       "    <tr>\n",
       "      <th>min</th>\n",
       "      <td>4.300000</td>\n",
       "      <td>2.000000</td>\n",
       "      <td>1.000000</td>\n",
       "      <td>0.100000</td>\n",
       "    </tr>\n",
       "    <tr>\n",
       "      <th>25%</th>\n",
       "      <td>5.100000</td>\n",
       "      <td>2.800000</td>\n",
       "      <td>1.600000</td>\n",
       "      <td>0.300000</td>\n",
       "    </tr>\n",
       "    <tr>\n",
       "      <th>50%</th>\n",
       "      <td>5.800000</td>\n",
       "      <td>3.000000</td>\n",
       "      <td>4.350000</td>\n",
       "      <td>1.300000</td>\n",
       "    </tr>\n",
       "    <tr>\n",
       "      <th>75%</th>\n",
       "      <td>6.400000</td>\n",
       "      <td>3.300000</td>\n",
       "      <td>5.100000</td>\n",
       "      <td>1.800000</td>\n",
       "    </tr>\n",
       "    <tr>\n",
       "      <th>max</th>\n",
       "      <td>7.900000</td>\n",
       "      <td>4.400000</td>\n",
       "      <td>6.900000</td>\n",
       "      <td>2.500000</td>\n",
       "    </tr>\n",
       "  </tbody>\n",
       "</table>\n",
       "</div>"
      ],
      "text/plain": [
       "       sepal length (cm)  sepal width (cm)  petal length (cm)  \\\n",
       "count         150.000000        150.000000         150.000000   \n",
       "mean            5.843333          3.057333           3.758000   \n",
       "std             0.828066          0.435866           1.765298   \n",
       "min             4.300000          2.000000           1.000000   \n",
       "25%             5.100000          2.800000           1.600000   \n",
       "50%             5.800000          3.000000           4.350000   \n",
       "75%             6.400000          3.300000           5.100000   \n",
       "max             7.900000          4.400000           6.900000   \n",
       "\n",
       "       petal width (cm)  \n",
       "count        150.000000  \n",
       "mean           1.199333  \n",
       "std            0.762238  \n",
       "min            0.100000  \n",
       "25%            0.300000  \n",
       "50%            1.300000  \n",
       "75%            1.800000  \n",
       "max            2.500000  "
      ]
     },
     "execution_count": 7,
     "metadata": {},
     "output_type": "execute_result"
    }
   ],
   "source": [
    "df.describe()"
   ]
  },
  {
   "cell_type": "code",
   "execution_count": 8,
   "metadata": {
    "ExecuteTime": {
     "end_time": "2023-11-28T01:24:51.206100Z",
     "start_time": "2023-11-28T01:24:51.133589Z"
    },
    "collapsed": false
   },
   "outputs": [
    {
     "name": "stdout",
     "output_type": "stream",
     "text": [
      "RelationRecord(items=frozenset({'B-PL'}), support=0.34, ordered_statistics=[OrderedStatistic(items_base=frozenset(), items_add=frozenset({'B-PL'}), confidence=0.34, lift=1.0)])\n",
      "RelationRecord(items=frozenset({'B-PW'}), support=0.32, ordered_statistics=[OrderedStatistic(items_base=frozenset(), items_add=frozenset({'B-PW'}), confidence=0.32, lift=1.0)])\n",
      "RelationRecord(items=frozenset({'B-SL'}), support=0.34, ordered_statistics=[OrderedStatistic(items_base=frozenset(), items_add=frozenset({'B-SL'}), confidence=0.34, lift=1.0)])\n",
      "RelationRecord(items=frozenset({'M-PL'}), support=0.32666666666666666, ordered_statistics=[OrderedStatistic(items_base=frozenset(), items_add=frozenset({'M-PL'}), confidence=0.32666666666666666, lift=1.0)])\n",
      "RelationRecord(items=frozenset({'M-PW'}), support=0.3466666666666667, ordered_statistics=[OrderedStatistic(items_base=frozenset(), items_add=frozenset({'M-PW'}), confidence=0.3466666666666667, lift=1.0)])\n",
      "RelationRecord(items=frozenset({'M-SL'}), support=0.31333333333333335, ordered_statistics=[OrderedStatistic(items_base=frozenset(), items_add=frozenset({'M-SL'}), confidence=0.31333333333333335, lift=1.0)])\n",
      "RelationRecord(items=frozenset({'M-SW'}), support=0.3333333333333333, ordered_statistics=[OrderedStatistic(items_base=frozenset(), items_add=frozenset({'M-SW'}), confidence=0.3333333333333333, lift=1.0)])\n",
      "RelationRecord(items=frozenset({'S-PL'}), support=0.3333333333333333, ordered_statistics=[OrderedStatistic(items_base=frozenset(), items_add=frozenset({'S-PL'}), confidence=0.3333333333333333, lift=1.0)])\n",
      "RelationRecord(items=frozenset({'S-PW'}), support=0.3333333333333333, ordered_statistics=[OrderedStatistic(items_base=frozenset(), items_add=frozenset({'S-PW'}), confidence=0.3333333333333333, lift=1.0)])\n",
      "RelationRecord(items=frozenset({'S-SL'}), support=0.3466666666666667, ordered_statistics=[OrderedStatistic(items_base=frozenset(), items_add=frozenset({'S-SL'}), confidence=0.3466666666666667, lift=1.0)])\n",
      "RelationRecord(items=frozenset({'S-SW'}), support=0.38, ordered_statistics=[OrderedStatistic(items_base=frozenset(), items_add=frozenset({'S-SW'}), confidence=0.38, lift=1.0)])\n",
      "RelationRecord(items=frozenset({'setosa'}), support=0.3333333333333333, ordered_statistics=[OrderedStatistic(items_base=frozenset(), items_add=frozenset({'setosa'}), confidence=0.3333333333333333, lift=1.0)])\n",
      "RelationRecord(items=frozenset({'versicolor'}), support=0.3333333333333333, ordered_statistics=[OrderedStatistic(items_base=frozenset(), items_add=frozenset({'versicolor'}), confidence=0.3333333333333333, lift=1.0)])\n",
      "RelationRecord(items=frozenset({'virginica'}), support=0.3333333333333333, ordered_statistics=[OrderedStatistic(items_base=frozenset(), items_add=frozenset({'virginica'}), confidence=0.3333333333333333, lift=1.0)])\n",
      "RelationRecord(items=frozenset({'B-PL', 'virginica'}), support=0.31333333333333335, ordered_statistics=[OrderedStatistic(items_base=frozenset(), items_add=frozenset({'B-PL', 'virginica'}), confidence=0.31333333333333335, lift=1.0), OrderedStatistic(items_base=frozenset({'B-PL'}), items_add=frozenset({'virginica'}), confidence=0.9215686274509803, lift=2.764705882352941), OrderedStatistic(items_base=frozenset({'virginica'}), items_add=frozenset({'B-PL'}), confidence=0.9400000000000001, lift=2.764705882352941)])\n",
      "RelationRecord(items=frozenset({'B-PW', 'virginica'}), support=0.30666666666666664, ordered_statistics=[OrderedStatistic(items_base=frozenset(), items_add=frozenset({'B-PW', 'virginica'}), confidence=0.30666666666666664, lift=1.0), OrderedStatistic(items_base=frozenset({'B-PW'}), items_add=frozenset({'virginica'}), confidence=0.9583333333333333, lift=2.875), OrderedStatistic(items_base=frozenset({'virginica'}), items_add=frozenset({'B-PW'}), confidence=0.9199999999999999, lift=2.8749999999999996)])\n",
      "RelationRecord(items=frozenset({'M-PL', 'M-PW'}), support=0.3, ordered_statistics=[OrderedStatistic(items_base=frozenset(), items_add=frozenset({'M-PL', 'M-PW'}), confidence=0.3, lift=1.0), OrderedStatistic(items_base=frozenset({'M-PL'}), items_add=frozenset({'M-PW'}), confidence=0.9183673469387755, lift=2.6491365777080063), OrderedStatistic(items_base=frozenset({'M-PW'}), items_add=frozenset({'M-PL'}), confidence=0.8653846153846153, lift=2.6491365777080063)])\n",
      "RelationRecord(items=frozenset({'M-PL', 'versicolor'}), support=0.30666666666666664, ordered_statistics=[OrderedStatistic(items_base=frozenset(), items_add=frozenset({'M-PL', 'versicolor'}), confidence=0.30666666666666664, lift=1.0), OrderedStatistic(items_base=frozenset({'M-PL'}), items_add=frozenset({'versicolor'}), confidence=0.9387755102040816, lift=2.816326530612245), OrderedStatistic(items_base=frozenset({'versicolor'}), items_add=frozenset({'M-PL'}), confidence=0.9199999999999999, lift=2.816326530612245)])\n",
      "RelationRecord(items=frozenset({'versicolor', 'M-PW'}), support=0.32, ordered_statistics=[OrderedStatistic(items_base=frozenset(), items_add=frozenset({'versicolor', 'M-PW'}), confidence=0.32, lift=1.0), OrderedStatistic(items_base=frozenset({'M-PW'}), items_add=frozenset({'versicolor'}), confidence=0.923076923076923, lift=2.769230769230769), OrderedStatistic(items_base=frozenset({'versicolor'}), items_add=frozenset({'M-PW'}), confidence=0.9600000000000001, lift=2.769230769230769)])\n",
      "RelationRecord(items=frozenset({'S-PW', 'S-PL'}), support=0.3333333333333333, ordered_statistics=[OrderedStatistic(items_base=frozenset(), items_add=frozenset({'S-PW', 'S-PL'}), confidence=0.3333333333333333, lift=1.0), OrderedStatistic(items_base=frozenset({'S-PL'}), items_add=frozenset({'S-PW'}), confidence=1.0, lift=3.0), OrderedStatistic(items_base=frozenset({'S-PW'}), items_add=frozenset({'S-PL'}), confidence=1.0, lift=3.0)])\n",
      "RelationRecord(items=frozenset({'S-SL', 'S-PL'}), support=0.3, ordered_statistics=[OrderedStatistic(items_base=frozenset(), items_add=frozenset({'S-SL', 'S-PL'}), confidence=0.3, lift=1.0), OrderedStatistic(items_base=frozenset({'S-PL'}), items_add=frozenset({'S-SL'}), confidence=0.9, lift=2.5961538461538463), OrderedStatistic(items_base=frozenset({'S-SL'}), items_add=frozenset({'S-PL'}), confidence=0.8653846153846153, lift=2.5961538461538463)])\n",
      "RelationRecord(items=frozenset({'setosa', 'S-PL'}), support=0.3333333333333333, ordered_statistics=[OrderedStatistic(items_base=frozenset(), items_add=frozenset({'setosa', 'S-PL'}), confidence=0.3333333333333333, lift=1.0), OrderedStatistic(items_base=frozenset({'S-PL'}), items_add=frozenset({'setosa'}), confidence=1.0, lift=3.0), OrderedStatistic(items_base=frozenset({'setosa'}), items_add=frozenset({'S-PL'}), confidence=1.0, lift=3.0)])\n",
      "RelationRecord(items=frozenset({'S-SL', 'S-PW'}), support=0.3, ordered_statistics=[OrderedStatistic(items_base=frozenset(), items_add=frozenset({'S-SL', 'S-PW'}), confidence=0.3, lift=1.0), OrderedStatistic(items_base=frozenset({'S-PW'}), items_add=frozenset({'S-SL'}), confidence=0.9, lift=2.5961538461538463), OrderedStatistic(items_base=frozenset({'S-SL'}), items_add=frozenset({'S-PW'}), confidence=0.8653846153846153, lift=2.5961538461538463)])\n",
      "RelationRecord(items=frozenset({'S-PW', 'setosa'}), support=0.3333333333333333, ordered_statistics=[OrderedStatistic(items_base=frozenset(), items_add=frozenset({'S-PW', 'setosa'}), confidence=0.3333333333333333, lift=1.0), OrderedStatistic(items_base=frozenset({'S-PW'}), items_add=frozenset({'setosa'}), confidence=1.0, lift=3.0), OrderedStatistic(items_base=frozenset({'setosa'}), items_add=frozenset({'S-PW'}), confidence=1.0, lift=3.0)])\n",
      "RelationRecord(items=frozenset({'S-SL', 'setosa'}), support=0.3, ordered_statistics=[OrderedStatistic(items_base=frozenset(), items_add=frozenset({'S-SL', 'setosa'}), confidence=0.3, lift=1.0), OrderedStatistic(items_base=frozenset({'S-SL'}), items_add=frozenset({'setosa'}), confidence=0.8653846153846153, lift=2.5961538461538463), OrderedStatistic(items_base=frozenset({'setosa'}), items_add=frozenset({'S-SL'}), confidence=0.9, lift=2.5961538461538463)])\n",
      "RelationRecord(items=frozenset({'M-PL', 'versicolor', 'M-PW'}), support=0.3, ordered_statistics=[OrderedStatistic(items_base=frozenset(), items_add=frozenset({'M-PL', 'versicolor', 'M-PW'}), confidence=0.3, lift=1.0), OrderedStatistic(items_base=frozenset({'M-PL'}), items_add=frozenset({'versicolor', 'M-PW'}), confidence=0.9183673469387755, lift=2.8698979591836733), OrderedStatistic(items_base=frozenset({'M-PW'}), items_add=frozenset({'M-PL', 'versicolor'}), confidence=0.8653846153846153, lift=2.82190635451505), OrderedStatistic(items_base=frozenset({'versicolor'}), items_add=frozenset({'M-PL', 'M-PW'}), confidence=0.9, lift=3.0), OrderedStatistic(items_base=frozenset({'M-PL', 'M-PW'}), items_add=frozenset({'versicolor'}), confidence=1.0, lift=3.0), OrderedStatistic(items_base=frozenset({'M-PL', 'versicolor'}), items_add=frozenset({'M-PW'}), confidence=0.9782608695652174, lift=2.82190635451505), OrderedStatistic(items_base=frozenset({'versicolor', 'M-PW'}), items_add=frozenset({'M-PL'}), confidence=0.9375, lift=2.8698979591836737)])\n",
      "RelationRecord(items=frozenset({'S-SL', 'S-PW', 'S-PL'}), support=0.3, ordered_statistics=[OrderedStatistic(items_base=frozenset(), items_add=frozenset({'S-SL', 'S-PW', 'S-PL'}), confidence=0.3, lift=1.0), OrderedStatistic(items_base=frozenset({'S-PL'}), items_add=frozenset({'S-SL', 'S-PW'}), confidence=0.9, lift=3.0), OrderedStatistic(items_base=frozenset({'S-PW'}), items_add=frozenset({'S-SL', 'S-PL'}), confidence=0.9, lift=3.0), OrderedStatistic(items_base=frozenset({'S-SL'}), items_add=frozenset({'S-PW', 'S-PL'}), confidence=0.8653846153846153, lift=2.5961538461538463), OrderedStatistic(items_base=frozenset({'S-PW', 'S-PL'}), items_add=frozenset({'S-SL'}), confidence=0.9, lift=2.5961538461538463), OrderedStatistic(items_base=frozenset({'S-SL', 'S-PL'}), items_add=frozenset({'S-PW'}), confidence=1.0, lift=3.0), OrderedStatistic(items_base=frozenset({'S-SL', 'S-PW'}), items_add=frozenset({'S-PL'}), confidence=1.0, lift=3.0)])\n",
      "RelationRecord(items=frozenset({'S-PW', 'setosa', 'S-PL'}), support=0.3333333333333333, ordered_statistics=[OrderedStatistic(items_base=frozenset(), items_add=frozenset({'S-PW', 'setosa', 'S-PL'}), confidence=0.3333333333333333, lift=1.0), OrderedStatistic(items_base=frozenset({'S-PL'}), items_add=frozenset({'S-PW', 'setosa'}), confidence=1.0, lift=3.0), OrderedStatistic(items_base=frozenset({'S-PW'}), items_add=frozenset({'setosa', 'S-PL'}), confidence=1.0, lift=3.0), OrderedStatistic(items_base=frozenset({'setosa'}), items_add=frozenset({'S-PW', 'S-PL'}), confidence=1.0, lift=3.0), OrderedStatistic(items_base=frozenset({'S-PW', 'S-PL'}), items_add=frozenset({'setosa'}), confidence=1.0, lift=3.0), OrderedStatistic(items_base=frozenset({'setosa', 'S-PL'}), items_add=frozenset({'S-PW'}), confidence=1.0, lift=3.0), OrderedStatistic(items_base=frozenset({'S-PW', 'setosa'}), items_add=frozenset({'S-PL'}), confidence=1.0, lift=3.0)])\n",
      "RelationRecord(items=frozenset({'S-SL', 'setosa', 'S-PL'}), support=0.3, ordered_statistics=[OrderedStatistic(items_base=frozenset(), items_add=frozenset({'S-SL', 'setosa', 'S-PL'}), confidence=0.3, lift=1.0), OrderedStatistic(items_base=frozenset({'S-PL'}), items_add=frozenset({'S-SL', 'setosa'}), confidence=0.9, lift=3.0), OrderedStatistic(items_base=frozenset({'S-SL'}), items_add=frozenset({'setosa', 'S-PL'}), confidence=0.8653846153846153, lift=2.5961538461538463), OrderedStatistic(items_base=frozenset({'setosa'}), items_add=frozenset({'S-SL', 'S-PL'}), confidence=0.9, lift=3.0), OrderedStatistic(items_base=frozenset({'S-SL', 'S-PL'}), items_add=frozenset({'setosa'}), confidence=1.0, lift=3.0), OrderedStatistic(items_base=frozenset({'setosa', 'S-PL'}), items_add=frozenset({'S-SL'}), confidence=0.9, lift=2.5961538461538463), OrderedStatistic(items_base=frozenset({'S-SL', 'setosa'}), items_add=frozenset({'S-PL'}), confidence=1.0, lift=3.0)])\n",
      "RelationRecord(items=frozenset({'S-SL', 'S-PW', 'setosa'}), support=0.3, ordered_statistics=[OrderedStatistic(items_base=frozenset(), items_add=frozenset({'S-SL', 'S-PW', 'setosa'}), confidence=0.3, lift=1.0), OrderedStatistic(items_base=frozenset({'S-PW'}), items_add=frozenset({'S-SL', 'setosa'}), confidence=0.9, lift=3.0), OrderedStatistic(items_base=frozenset({'S-SL'}), items_add=frozenset({'S-PW', 'setosa'}), confidence=0.8653846153846153, lift=2.5961538461538463), OrderedStatistic(items_base=frozenset({'setosa'}), items_add=frozenset({'S-SL', 'S-PW'}), confidence=0.9, lift=3.0), OrderedStatistic(items_base=frozenset({'S-SL', 'S-PW'}), items_add=frozenset({'setosa'}), confidence=1.0, lift=3.0), OrderedStatistic(items_base=frozenset({'S-PW', 'setosa'}), items_add=frozenset({'S-SL'}), confidence=0.9, lift=2.5961538461538463), OrderedStatistic(items_base=frozenset({'S-SL', 'setosa'}), items_add=frozenset({'S-PW'}), confidence=1.0, lift=3.0)])\n",
      "RelationRecord(items=frozenset({'S-SL', 'S-PW', 'setosa', 'S-PL'}), support=0.3, ordered_statistics=[OrderedStatistic(items_base=frozenset(), items_add=frozenset({'S-SL', 'S-PW', 'setosa', 'S-PL'}), confidence=0.3, lift=1.0), OrderedStatistic(items_base=frozenset({'S-PL'}), items_add=frozenset({'S-SL', 'S-PW', 'setosa'}), confidence=0.9, lift=3.0), OrderedStatistic(items_base=frozenset({'S-PW'}), items_add=frozenset({'S-SL', 'setosa', 'S-PL'}), confidence=0.9, lift=3.0), OrderedStatistic(items_base=frozenset({'S-SL'}), items_add=frozenset({'S-PW', 'setosa', 'S-PL'}), confidence=0.8653846153846153, lift=2.5961538461538463), OrderedStatistic(items_base=frozenset({'setosa'}), items_add=frozenset({'S-SL', 'S-PW', 'S-PL'}), confidence=0.9, lift=3.0), OrderedStatistic(items_base=frozenset({'S-PW', 'S-PL'}), items_add=frozenset({'S-SL', 'setosa'}), confidence=0.9, lift=3.0), OrderedStatistic(items_base=frozenset({'S-SL', 'S-PL'}), items_add=frozenset({'S-PW', 'setosa'}), confidence=1.0, lift=3.0), OrderedStatistic(items_base=frozenset({'setosa', 'S-PL'}), items_add=frozenset({'S-SL', 'S-PW'}), confidence=0.9, lift=3.0), OrderedStatistic(items_base=frozenset({'S-SL', 'S-PW'}), items_add=frozenset({'setosa', 'S-PL'}), confidence=1.0, lift=3.0), OrderedStatistic(items_base=frozenset({'S-PW', 'setosa'}), items_add=frozenset({'S-SL', 'S-PL'}), confidence=0.9, lift=3.0), OrderedStatistic(items_base=frozenset({'S-SL', 'setosa'}), items_add=frozenset({'S-PW', 'S-PL'}), confidence=1.0, lift=3.0), OrderedStatistic(items_base=frozenset({'S-SL', 'S-PW', 'S-PL'}), items_add=frozenset({'setosa'}), confidence=1.0, lift=3.0), OrderedStatistic(items_base=frozenset({'S-PW', 'setosa', 'S-PL'}), items_add=frozenset({'S-SL'}), confidence=0.9, lift=2.5961538461538463), OrderedStatistic(items_base=frozenset({'S-SL', 'setosa', 'S-PL'}), items_add=frozenset({'S-PW'}), confidence=1.0, lift=3.0), OrderedStatistic(items_base=frozenset({'S-SL', 'S-PW', 'setosa'}), items_add=frozenset({'S-PL'}), confidence=1.0, lift=3.0)])\n"
     ]
    }
   ],
   "source": [
    "df['sepal length (cm)'] = np.select(\n",
    "    [df['sepal length (cm)'] > df['sepal length (cm)'].quantile(0.66), df['sepal length (cm)'] > df['sepal length (cm)'].quantile(0.33)],\n",
    "    ['B-SL', 'M-SL'], \n",
    "    default='S-SL'\n",
    ")\n",
    "\n",
    "df['sepal width (cm)'] = np.select(\n",
    "    [df['sepal width (cm)'] > df['sepal width (cm)'].quantile(0.66), df['sepal width (cm)'] > df['sepal width (cm)'].quantile(0.33)],\n",
    "    ['B-SW', 'M-SW'], \n",
    "    default='S-SW'\n",
    ")\n",
    "\n",
    "df['petal length (cm)'] = np.select(\n",
    "    [df['petal length (cm)'] > df['petal length (cm)'].quantile(0.66), df['petal length (cm)'] > df['petal length (cm)'].quantile(0.33)],\n",
    "    ['B-PL', 'M-PL'], \n",
    "    default='S-PL'\n",
    ")\n",
    "\n",
    "df['petal width (cm)'] = np.select(\n",
    "    [df['petal width (cm)'] > df['petal width (cm)'].quantile(0.66), df['petal width (cm)'] > df['petal width (cm)'].quantile(0.33)],\n",
    "    ['B-PW', 'M-PW'], \n",
    "    default='S-PW'\n",
    ")\n",
    "\n",
    "flowers = []\n",
    "\n",
    "for i in range(150):\n",
    "    flowers.append([str(df.values[i, j]) for j in range(0, 5)])\n",
    "\n",
    "association_rules2 = apriori(flowers, min_support=0.3)\n",
    "association_results2 = list(association_rules2)\n",
    "for r in association_results2:\n",
    "    print(r)"
   ]
  }
 ],
 "metadata": {
  "colab": {
   "authorship_tag": "ABX9TyOVTJV6eoH9LwCnkVS765vb",
   "include_colab_link": true,
   "provenance": []
  },
  "kernelspec": {
   "display_name": "Python 3 (ipykernel)",
   "language": "python",
   "name": "python3"
  },
  "language_info": {
   "codemirror_mode": {
    "name": "ipython",
    "version": 3
   },
   "file_extension": ".py",
   "mimetype": "text/x-python",
   "name": "python",
   "nbconvert_exporter": "python",
   "pygments_lexer": "ipython3",
   "version": "3.9.18"
  }
 },
 "nbformat": 4,
 "nbformat_minor": 1
}
