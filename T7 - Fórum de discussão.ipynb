{
 "cells": [
  {
   "cell_type": "markdown",
   "metadata": {},
   "source": [
    "<head>\n",
    "  <meta name=\"author\" content=\"Rogério de Oliveira\">\n",
    "  <meta institution=\"author\" content=\"Universidade Presbiteriana Mackenzie\">\n",
    "</head>\n",
    "\n",
    "<img src=\"http://meusite.mackenzie.br/rogerio/mackenzie_logo/UPM.2_horizontal_vermelho.jpg\" width=300, align=\"right\">\n",
    "\n",
    "<h1 align=left><font size = 8\"><b>Inteligência Artificial</b></font></h1>\n",
    "<h1 align=left><font size = 6\"><b>Associação e Regressão</b></font></h2>\n",
    "\n",
    "# Atividade: T7 - Fórum de discussão\n",
    "\n",
    "Nome: Bruno Rebocho de Toledo\n",
    "\n",
    "Turma: 01B\n",
    "\n",
    "Matrícula: 92316328"
   ]
  },
  {
   "cell_type": "code",
   "execution_count": 9,
   "metadata": {
    "ExecuteTime": {
     "end_time": "2023-11-30T01:51:39.828780Z",
     "start_time": "2023-11-30T01:51:39.484793700Z"
    }
   },
   "outputs": [
    {
     "data": {
      "text/plain": [
       "(0.8766666666666667, 0.8833333333333333)"
      ]
     },
     "execution_count": 9,
     "metadata": {},
     "output_type": "execute_result"
    }
   ],
   "source": [
    "from sklearn.linear_model import Perceptron, LogisticRegression\n",
    "from sklearn.datasets import make_classification\n",
    "from sklearn.model_selection import train_test_split\n",
    "from sklearn.metrics import accuracy_score\n",
    "\n",
    "# Gerar dados sintéticos\n",
    "X, y = make_classification(n_samples=1000, n_features=2, n_redundant=0, n_clusters_per_class=1, random_state=42)\n",
    "\n",
    "# Dividir os dados em conjunto de treino e teste\n",
    "X_train, X_test, y_train, y_test = train_test_split(X, y, test_size=0.3, random_state=42)\n",
    "\n",
    "# Instanciar e treinar o Perceptron e a Regressão Logística\n",
    "perceptron = Perceptron(max_iter=1000, tol=1e-3, random_state=42)\n",
    "log_reg = LogisticRegression(random_state=42)\n",
    "\n",
    "perceptron.fit(X_train, y_train)\n",
    "log_reg.fit(X_train, y_train)\n",
    "\n",
    "# Fazer previsões e calcular a acurácia\n",
    "y_pred_perceptron = perceptron.predict(X_test)\n",
    "y_pred_log_reg = log_reg.predict(X_test)\n",
    "\n",
    "accuracy_perceptron = accuracy_score(y_test, y_pred_perceptron)\n",
    "accuracy_log_reg = accuracy_score(y_test, y_pred_log_reg)\n",
    "\n",
    "accuracy_perceptron, accuracy_log_reg\n",
    "\n"
   ]
  }
 ],
 "metadata": {
  "kernelspec": {
   "display_name": "gpuenv_3.9",
   "language": "python",
   "name": "python3"
  },
  "language_info": {
   "codemirror_mode": {
    "name": "ipython",
    "version": 3
   },
   "file_extension": ".py",
   "mimetype": "text/x-python",
   "name": "python",
   "nbconvert_exporter": "python",
   "pygments_lexer": "ipython3",
   "version": "3.12.0"
  }
 },
 "nbformat": 4,
 "nbformat_minor": 2
}
